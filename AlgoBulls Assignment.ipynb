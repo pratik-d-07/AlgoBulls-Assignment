{
 "cells": [
  {
   "cell_type": "code",
   "execution_count": 1,
   "id": "2e5530b1",
   "metadata": {},
   "outputs": [],
   "source": [
    "import pandas as pd\n",
    "import requests\n",
    "\n",
    "class ScriptData:\n",
    "    def __init__(self, api_key):\n",
    "        self.api_key = api_key\n",
    "        self.intraday_data = {}\n",
    "    \n",
    "    def fetch_intraday_data(self, script):\n",
    "        # Send request to Alpha Vantage API to fetch intraday stock data\n",
    "        url = f\"https://www.alphavantage.co/query?function=TIME_SERIES_INTRADAY&symbol={script}&interval=60min&apikey={self.api_key}\"\n",
    "        response = requests.get(url)\n",
    "        self.intraday_data[script] = response.json()\n",
    "    \n",
    "    def convert_intraday_data(self, script):\n",
    "        data = self.intraday_data[script][\"Time Series (60min)\"]\n",
    "        # Convert raw data to pandas DataFrame\n",
    "        df = pd.DataFrame.from_dict(data, orient='index', dtype=float)\n",
    "        df.reset_index(inplace=True)\n",
    "        df.rename(columns={\"index\": \"timestamp\"}, inplace=True)\n",
    "        df[\"timestamp\"] = pd.to_datetime(df[\"timestamp\"])\n",
    "        df.sort_values(\"timestamp\",ascending=False, inplace=True)\n",
    "        df = df[[\"timestamp\", \"1. open\", \"2. high\", \"3. low\", \"4. close\", \"5. volume\"]]\n",
    "        df.rename(columns={\"1. open\": \"open\", \"2. high\": \"high\", \"3. low\": \"low\", \"4. close\": \"close\", \"5. volume\": \"volume\"}, inplace=True)\n",
    "        df[[\"open\", \"high\", \"low\", \"close\", \"volume\"]] = df[[\"open\", \"high\", \"low\", \"close\", \"volume\"]].astype(float)\n",
    "        self.intraday_data[script] = df\n",
    "    \n",
    "    def __getitem__(self, script):\n",
    "         return self.intraday_data[script]\n",
    "    \n",
    "    def __setitem__(self, script, df):\n",
    "        self.intraday_data[script] = df\n",
    "    \n",
    "    def __contains__(self, script):\n",
    "        return script in self.intraday_data"
   ]
  },
  {
   "cell_type": "code",
   "execution_count": 2,
   "id": "a0564024",
   "metadata": {},
   "outputs": [
    {
     "name": "stdout",
     "output_type": "stream",
     "text": [
      "             timestamp     open   high    low  close     volume\n",
      "0  2023-02-24 20:00:00  89.1600  89.23  89.13  89.13    20290.0\n",
      "1  2023-02-24 19:00:00  89.1700  89.25  89.15  89.22     6531.0\n",
      "2  2023-02-24 18:00:00  89.2800  89.30  89.13  89.24    27477.0\n",
      "3  2023-02-24 17:00:00  89.1300  89.43  89.13  89.30   733696.0\n",
      "4  2023-02-24 16:00:00  89.2100  89.37  88.84  89.16  6888953.0\n",
      "..                 ...      ...    ...    ...    ...        ...\n",
      "95 2023-02-16 05:00:00  97.1000  97.23  96.95  97.02    33881.0\n",
      "96 2023-02-15 20:00:00  96.9300  97.12  96.80  97.10    84085.0\n",
      "97 2023-02-15 19:00:00  96.9000  97.01  96.89  96.94    68819.0\n",
      "98 2023-02-15 18:00:00  96.9406  96.96  96.86  96.90    61057.0\n",
      "99 2023-02-15 17:00:00  96.9400  97.08  96.85  96.95   987263.0\n",
      "\n",
      "[100 rows x 6 columns]\n"
     ]
    }
   ],
   "source": [
    "script_data =ScriptData(\"IO1XAWEP2CEP28OE\")\n",
    "script_data.fetch_intraday_data('GOOGL')\n",
    "script_data.convert_intraday_data('GOOGL')\n",
    "\n",
    "print(script_data['GOOGL'])"
   ]
  },
  {
   "cell_type": "code",
   "execution_count": 3,
   "id": "bf09213f",
   "metadata": {},
   "outputs": [
    {
     "name": "stdout",
     "output_type": "stream",
     "text": [
      "True\n"
     ]
    }
   ],
   "source": [
    "print('GOOGL' in script_data)"
   ]
  },
  {
   "cell_type": "code",
   "execution_count": 4,
   "id": "c68a153f",
   "metadata": {},
   "outputs": [],
   "source": [
    "def indicator1(df, timeperiod):\n",
    "    # Compute moving average of 'close' column using specified timeperiod\n",
    "    moving_average = df[\"close\"].rolling(window=timeperiod).mean()\n",
    "    # Return pandas DataFrame with 'timestamp' and 'indicator' columns\n",
    "    result_df = pd.DataFrame({\"timestamp\": df[\"timestamp\"], \"indicator\": moving_average})\n",
    "    return result_df"
   ]
  },
  {
   "cell_type": "code",
   "execution_count": 5,
   "id": "5adc1852",
   "metadata": {},
   "outputs": [
    {
     "name": "stdout",
     "output_type": "stream",
     "text": [
      "             timestamp  indicator\n",
      "0  2023-02-24 20:00:00        NaN\n",
      "1  2023-02-24 19:00:00        NaN\n",
      "2  2023-02-24 18:00:00        NaN\n",
      "3  2023-02-24 17:00:00        NaN\n",
      "4  2023-02-24 16:00:00     89.210\n",
      "..                 ...        ...\n",
      "95 2023-02-16 05:00:00     96.632\n",
      "96 2023-02-15 20:00:00     96.952\n",
      "97 2023-02-15 19:00:00     97.050\n",
      "98 2023-02-15 18:00:00     97.010\n",
      "99 2023-02-15 17:00:00     96.982\n",
      "\n",
      "[100 rows x 2 columns]\n"
     ]
    }
   ],
   "source": [
    "print(indicator1(script_data['GOOGL'],timeperiod=5))"
   ]
  },
  {
   "cell_type": "code",
   "execution_count": 6,
   "id": "1440ca23",
   "metadata": {},
   "outputs": [],
   "source": [
    "class Strategy:\n",
    "    def __init__(self, script, api_key,timeperiod):\n",
    "        self.script = script\n",
    "        self.script_data = ScriptData(api_key)\n",
    "        self.timeperiod=timeperiod\n",
    "\n",
    "    def get_script_data(self):\n",
    "        self.script_data.fetch_intraday_data(self.script)\n",
    "        self.script_data.convert_intraday_data(self.script)\n",
    "        self.df = self.script_data[self.script]\n",
    "        self.indicator_data = indicator1(self.df, self.timeperiod)\n",
    "        \n",
    "    def get_signals(self):\n",
    "        # create an empty list to store the signals\n",
    "        signals=[]\n",
    "        for i in range(1, len(self.df)):\n",
    "            if self.indicator_data[\"indicator\"].iloc[i] > self.df[\"close\"].iloc[i] and self.indicator_data[\"indicator\"].iloc[i-1] <= self.df[\"close\"].iloc[i-1]:\n",
    "                signals.append({\"timestamp\": self.df[\"timestamp\"].iloc[i], \"signal\": \"BUY\"})\n",
    "            elif self.indicator_data[\"indicator\"].iloc[i] < self.df[\"close\"].iloc[i] and self.indicator_data[\"indicator\"].iloc[i-1] >= self.df[\"close\"].iloc[i-1]:\n",
    "                signals.append({\"timestamp\": self.df[\"timestamp\"].iloc[i], \"signal\": \"SELL\"})\n",
    "            else:\n",
    "                signals.append({\"timestamp\": self.df[\"timestamp\"].iloc[i], \"signal\": \"NO_SIGNAL\"})\n",
    "        # convert the signals list to a pandas DataFrame and store it in the self.signals attribute\n",
    "        self.signals = pd.DataFrame(signals)\n",
    "        new_signals = self.signals[(self.signals['signal'] == 'BUY') | (self.signals['signal'] == 'SELL')].reset_index(drop=True)\n",
    "        return new_signals"
   ]
  },
  {
   "cell_type": "code",
   "execution_count": 7,
   "id": "e6e845cc",
   "metadata": {},
   "outputs": [
    {
     "name": "stdout",
     "output_type": "stream",
     "text": [
      "             timestamp signal\n",
      "0  2023-02-24 15:00:00   SELL\n",
      "1  2023-02-24 14:00:00    BUY\n",
      "2  2023-02-24 12:00:00   SELL\n",
      "3  2023-02-24 11:00:00    BUY\n",
      "4  2023-02-24 09:00:00   SELL\n",
      "5  2023-02-24 05:00:00    BUY\n",
      "6  2023-02-23 20:00:00   SELL\n",
      "7  2023-02-23 13:00:00    BUY\n",
      "8  2023-02-23 11:00:00   SELL\n",
      "9  2023-02-23 09:00:00    BUY\n",
      "10 2023-02-22 20:00:00   SELL\n",
      "11 2023-02-22 17:00:00    BUY\n",
      "12 2023-02-22 10:00:00   SELL\n",
      "13 2023-02-22 07:00:00    BUY\n",
      "14 2023-02-21 19:00:00   SELL\n",
      "15 2023-02-21 09:00:00    BUY\n",
      "16 2023-02-21 08:00:00   SELL\n",
      "17 2023-02-21 06:00:00    BUY\n",
      "18 2023-02-17 20:00:00   SELL\n",
      "19 2023-02-17 16:00:00    BUY\n",
      "20 2023-02-17 15:00:00   SELL\n",
      "21 2023-02-17 14:00:00    BUY\n",
      "22 2023-02-17 10:00:00   SELL\n",
      "23 2023-02-17 06:00:00    BUY\n",
      "24 2023-02-17 05:00:00   SELL\n",
      "25 2023-02-16 12:00:00    BUY\n",
      "26 2023-02-16 08:00:00   SELL\n"
     ]
    }
   ],
   "source": [
    "strategy = Strategy('NVDA','IO1XAWEP2CEP28OE',5)\n",
    "strategy.get_script_data()\n",
    "output=strategy.get_signals()\n",
    "print(output)"
   ]
  },
  {
   "cell_type": "code",
   "execution_count": null,
   "id": "41d77751",
   "metadata": {},
   "outputs": [],
   "source": []
  }
 ],
 "metadata": {
  "kernelspec": {
   "display_name": "Python 3 (ipykernel)",
   "language": "python",
   "name": "python3"
  },
  "language_info": {
   "codemirror_mode": {
    "name": "ipython",
    "version": 3
   },
   "file_extension": ".py",
   "mimetype": "text/x-python",
   "name": "python",
   "nbconvert_exporter": "python",
   "pygments_lexer": "ipython3",
   "version": "3.9.1"
  }
 },
 "nbformat": 4,
 "nbformat_minor": 5
}
